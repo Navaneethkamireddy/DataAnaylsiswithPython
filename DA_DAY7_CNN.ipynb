{
  "nbformat": 4,
  "nbformat_minor": 0,
  "metadata": {
    "colab": {
      "provenance": [],
      "mount_file_id": "1lNwgGdfQ1fGMjsxv1VjR2tpl_quO0OHv",
      "authorship_tag": "ABX9TyOHE9Xm/WtvJDmMS/iWRFUg",
      "include_colab_link": true
    },
    "kernelspec": {
      "name": "python3",
      "display_name": "Python 3"
    },
    "language_info": {
      "name": "python"
    }
  },
  "cells": [
    {
      "cell_type": "markdown",
      "metadata": {
        "id": "view-in-github",
        "colab_type": "text"
      },
      "source": [
        "<a href=\"https://colab.research.google.com/github/Navaneethkamireddy/DataAnaylsiswithPython/blob/main/DA_DAY7_CNN.ipynb\" target=\"_parent\"><img src=\"https://colab.research.google.com/assets/colab-badge.svg\" alt=\"Open In Colab\"/></a>"
      ]
    },
    {
      "cell_type": "code",
      "execution_count": null,
      "metadata": {
        "id": "x7jem7K675rm"
      },
      "outputs": [],
      "source": [
        "import tensorflow as tf\n",
        "from tensorflow import keras\n",
        "from tensorflow.keras import layers\n",
        "from tensorflow.keras.preprocessing.image import ImageDataGenerator"
      ]
    },
    {
      "cell_type": "code",
      "source": [
        "#define image size and batch size\n",
        "IMG_SIZE=224\n",
        "BATCH_SIZE=32"
      ],
      "metadata": {
        "id": "HQjkUvhV9MkD"
      },
      "execution_count": null,
      "outputs": []
    },
    {
      "cell_type": "code",
      "source": [
        "train_generator=train_datagen.flow_from_directory('/content/drive/MyDrive/Brain_Tumor_Detection/Brain_Tumor_Detection/train',\n",
        "    target_size=(IMG_SIZE,IMG_SIZE),\n",
        "    batch_size=BATCH_SIZE,\n",
        "    class_mode='binary',\n",
        "    subset='training')\n",
        "val_generator=train_datagen.flow_from_directory('/content/drive/MyDrive/Brain_Tumor_Detection/Brain_Tumor_Detection/train',\n",
        "    target_size=(IMG_SIZE,IMG_SIZE),\n",
        "    batch_size=BATCH_SIZE,\n",
        "    class_mode='binary',\n",
        "    subset='validation')\n",
        "test_generator=train_datagen.flow_from_directory('/content/drive/MyDrive/Brain_Tumor_Detection/Brain_Tumor_Detection/test',\n",
        "    target_size=(IMG_SIZE,IMG_SIZE),\n",
        "    batch_size=BATCH_SIZE,\n",
        "    class_mode='binary',\n",
        "    subset='validation')"
      ],
      "metadata": {
        "colab": {
          "base_uri": "https://localhost:8080/"
        },
        "id": "EN2kSTLTopqJ",
        "outputId": "9dd78e7e-6d93-47bc-a09d-b6f32c0d7488"
      },
      "execution_count": null,
      "outputs": [
        {
          "output_type": "stream",
          "name": "stdout",
          "text": [
            "Found 2499 images belonging to 3 classes.\n",
            "Found 624 images belonging to 3 classes.\n",
            "Found 0 images belonging to 0 classes.\n"
          ]
        }
      ]
    },
    {
      "cell_type": "code",
      "source": [
        "from google.colab import drive\n",
        "drive.mount('/content/drive')"
      ],
      "metadata": {
        "colab": {
          "base_uri": "https://localhost:8080/"
        },
        "id": "wEKyzmg0f83d",
        "outputId": "e11cebbf-3b86-4eb7-b2f2-fbf84a9d906b"
      },
      "execution_count": null,
      "outputs": [
        {
          "output_type": "stream",
          "name": "stdout",
          "text": [
            "Drive already mounted at /content/drive; to attempt to forcibly remount, call drive.mount(\"/content/drive\", force_remount=True).\n"
          ]
        }
      ]
    },
    {
      "cell_type": "code",
      "source": [
        "#define the model\n",
        "model = keras.Sequential([\n",
        "    layers.Conv2D(32,(3,3),activation='relu',input_shape=(IMG_SIZE,IMG_SIZE,3)),\n",
        "    layers.MaxPooling2D((2,2)),\n",
        "    layers.Conv2D(64,(3,3),activation='relu'),\n",
        "    layers.MaxPooling2D((2,2)),\n",
        "    layers.Conv2D(128,(3,3),activation='relu'),\n",
        "    layers.MaxPooling2D((2,2)),\n",
        "    layers.Flatten(),\n",
        "    layers.Dense(128,activation='relu'),\n",
        "    layers.Dense(1,activation='sigmoid')\n",
        "])"
      ],
      "metadata": {
        "id": "pemiWVQtiVdV"
      },
      "execution_count": null,
      "outputs": []
    },
    {
      "cell_type": "code",
      "source": [
        "model.compile(optimizer='adam', loss='binary_crossentropy', metrics=['accuracy'])"
      ],
      "metadata": {
        "id": "Kvejzd7bo6OZ"
      },
      "execution_count": null,
      "outputs": []
    },
    {
      "cell_type": "code",
      "source": [
        "history=model.fit(train_generator,validation_data=val_generator,epochs=5)"
      ],
      "metadata": {
        "colab": {
          "base_uri": "https://localhost:8080/"
        },
        "id": "XSkiGCA4pFCI",
        "outputId": "94445d46-40ff-4f1c-fb72-721b32cbbcaf"
      },
      "execution_count": null,
      "outputs": [
        {
          "output_type": "stream",
          "name": "stdout",
          "text": [
            "Epoch 1/5\n",
            "79/79 [==============================] - 352s 4s/step - loss: -3867919.7500 - accuracy: 0.0192 - val_loss: -15147536.0000 - val_accuracy: 0.0192\n",
            "Epoch 2/5\n",
            "79/79 [==============================] - 164s 2s/step - loss: -316318176.0000 - accuracy: 0.0192 - val_loss: -751473984.0000 - val_accuracy: 0.0192\n",
            "Epoch 3/5\n",
            "79/79 [==============================] - 164s 2s/step - loss: -4435740160.0000 - accuracy: 0.0192 - val_loss: -7307207680.0000 - val_accuracy: 0.0192\n",
            "Epoch 4/5\n",
            "79/79 [==============================] - 163s 2s/step - loss: -29536741376.0000 - accuracy: 0.0192 - val_loss: -40963182592.0000 - val_accuracy: 0.0192\n",
            "Epoch 5/5\n",
            "79/79 [==============================] - 163s 2s/step - loss: -115302883328.0000 - accuracy: 0.0192 - val_loss: -138574217216.0000 - val_accuracy: 0.0192\n"
          ]
        }
      ]
    },
    {
      "cell_type": "code",
      "source": [
        "model.save(\"model.h5\",\"label.txt\")"
      ],
      "metadata": {
        "id": "_IKsTugSpLbl"
      },
      "execution_count": null,
      "outputs": []
    },
    {
      "cell_type": "code",
      "source": [
        "from tensorflow.keras.models import load_model\n",
        "from tensorflow.keras.preprocessing import image\n",
        "import numpy as np\n",
        "\n",
        "#load the saved model\n",
        "model=load_model('/content/model.h5')\n",
        "\n",
        "#load and preprocess the test image\n",
        "test_image_path='/content/drive/MyDrive/Brain_Tumor_Detection/Brain_Tumor_Detection/train/no/No12.jpg'\n",
        "img=image.load_img(test_image_path,target_size=(224,224))\n",
        "img_array=image.img_to_array(img)\n",
        "img_array=np.expand_dims(img_array ,axis=0)  #batch dimension\n",
        "img_array /=255.  #normalise the pixel values\n",
        "#make predictions\n",
        "predication=model.predict(img_array)\n",
        "##print the predication\n",
        "if predication < 0.5:\n",
        "  print(\"predication: no tumer !(probility:\",predication[0][0],\")\")\n",
        "else:\n",
        "    print(\"predication :tumer present! (probility:\",predication[0][0],\")\")"
      ],
      "metadata": {
        "id": "kNAuf1AQzoa1",
        "colab": {
          "base_uri": "https://localhost:8080/"
        },
        "outputId": "f34dc877-ecf5-464b-c0cd-9f61a9f21096"
      },
      "execution_count": null,
      "outputs": [
        {
          "output_type": "stream",
          "name": "stderr",
          "text": [
            "WARNING:tensorflow:6 out of the last 6 calls to <function Model.make_predict_function.<locals>.predict_function at 0x7fe5d8332a70> triggered tf.function retracing. Tracing is expensive and the excessive number of tracings could be due to (1) creating @tf.function repeatedly in a loop, (2) passing tensors with different shapes, (3) passing Python objects instead of tensors. For (1), please define your @tf.function outside of the loop. For (2), @tf.function has reduce_retracing=True option that can avoid unnecessary retracing. For (3), please refer to https://www.tensorflow.org/guide/function#controlling_retracing and https://www.tensorflow.org/api_docs/python/tf/function for  more details.\n"
          ]
        },
        {
          "output_type": "stream",
          "name": "stdout",
          "text": [
            "1/1 [==============================] - 0s 74ms/step\n",
            "predication :tumer present! (probility: 1.0 )\n"
          ]
        }
      ]
    },
    {
      "cell_type": "code",
      "source": [],
      "metadata": {
        "id": "8qxKtXDB0T5T"
      },
      "execution_count": null,
      "outputs": []
    }
  ]
}