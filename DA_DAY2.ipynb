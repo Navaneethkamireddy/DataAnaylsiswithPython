{
  "cells": [
    {
      "cell_type": "markdown",
      "metadata": {
        "id": "view-in-github",
        "colab_type": "text"
      },
      "source": [
        "<a href=\"https://colab.research.google.com/github/Navaneethkamireddy/DataAnaylsiswithPython/blob/main/DA_DAY2.ipynb\" target=\"_parent\"><img src=\"https://colab.research.google.com/assets/colab-badge.svg\" alt=\"Open In Colab\"/></a>"
      ]
    },
    {
      "cell_type": "code",
      "execution_count": null,
      "metadata": {
        "colab": {
          "base_uri": "https://localhost:8080/"
        },
        "id": "OS18w435rR7q",
        "outputId": "0d2ab950-a490-4add-f5d2-d283dabae610"
      },
      "outputs": [
        {
          "name": "stdout",
          "output_type": "stream",
          "text": [
            "[[ 1  2  3  4]\n",
            " [ 5  6  7  8]\n",
            " [ 9 10 11 12]\n",
            " [13 14 15 16]\n",
            " [17 18 19 20]\n",
            " [21 22 23 24]\n",
            " [25 26 27 28]\n",
            " [29 30 31 32]]\n"
          ]
        }
      ],
      "source": [
        "#creating an array with 8r0ws and 4 coloums\n",
        "import numpy as np\n",
        "a=np.arange(1,33,1).reshape(8,4)\n",
        "print(a)"
      ]
    },
    {
      "cell_type": "code",
      "execution_count": null,
      "metadata": {
        "colab": {
          "base_uri": "https://localhost:8080/"
        },
        "id": "ehAoG_GzuGNd",
        "outputId": "9deca1ab-e38a-4895-a00b-8b8d55d7e31f"
      },
      "outputs": [
        {
          "name": "stdout",
          "output_type": "stream",
          "text": [
            "[0.1846599]\n"
          ]
        }
      ],
      "source": [
        "a=np.random.rand(1)\n",
        "print(a)"
      ]
    },
    {
      "cell_type": "code",
      "execution_count": null,
      "metadata": {
        "colab": {
          "base_uri": "https://localhost:8080/"
        },
        "id": "Q-ZScB4Ju304",
        "outputId": "811d12f1-c8d1-47e5-e427-729175450524"
      },
      "outputs": [
        {
          "name": "stdout",
          "output_type": "stream",
          "text": [
            "[[0.89858914 0.79651856 0.47953498 0.09281371]\n",
            " [0.54289783 0.18485151 0.13849247 0.38375636]\n",
            " [0.72232534 0.27144678 0.99752036 0.47105387]\n",
            " [0.99103883 0.84835526 0.3452624  0.26646705]\n",
            " [0.92970817 0.99893067 0.76752457 0.39405227]\n",
            " [0.30437616 0.11834163 0.04649359 0.00139795]\n",
            " [0.17308421 0.84576159 0.5571186  0.78839101]\n",
            " [0.21024225 0.32304639 0.32040735 0.38707046]]\n"
          ]
        }
      ],
      "source": [
        "a=np.random.rand(8,4)\n",
        "print(a)"
      ]
    },
    {
      "cell_type": "code",
      "execution_count": null,
      "metadata": {
        "colab": {
          "base_uri": "https://localhost:8080/"
        },
        "id": "LnIZZc4gvBlT",
        "outputId": "43154a4c-733d-40c7-dddd-91c625d79782"
      },
      "outputs": [
        {
          "output_type": "stream",
          "name": "stdout",
          "text": [
            "[[9. 9. 2. 7.]\n",
            " [4. 7. 4. 6.]\n",
            " [7. 9. 8. 5.]\n",
            " [4. 3. 4. 0.]\n",
            " [4. 6. 2. 7.]\n",
            " [0. 1. 6. 7.]\n",
            " [4. 3. 8. 0.]\n",
            " [7. 9. 3. 9.]]\n"
          ]
        }
      ],
      "source": [
        "a=np.floor(10*np.random.rand(8,4))\n",
        "print(a)"
      ]
    },
    {
      "cell_type": "code",
      "source": [
        "a=np.vsplit(a,4)\n",
        "print(a)"
      ],
      "metadata": {
        "colab": {
          "base_uri": "https://localhost:8080/"
        },
        "id": "LwUXDjABxlgJ",
        "outputId": "8469c269-5c4e-48fc-da4c-f78d062741b4"
      },
      "execution_count": null,
      "outputs": [
        {
          "output_type": "stream",
          "name": "stdout",
          "text": [
            "[array([[9., 9., 2., 7.],\n",
            "       [4., 7., 4., 6.]]), array([[7., 9., 8., 5.],\n",
            "       [4., 3., 4., 0.]]), array([[4., 6., 2., 7.],\n",
            "       [0., 1., 6., 7.]]), array([[4., 3., 8., 0.],\n",
            "       [7., 9., 3., 9.]])]\n"
          ]
        }
      ]
    },
    {
      "cell_type": "markdown",
      "source": [
        "split it after 3rd row and 5th column"
      ],
      "metadata": {
        "id": "LxAC4uaZzVAc"
      }
    },
    {
      "cell_type": "code",
      "source": [
        "a=np.vsplit(a,(3,5))\n",
        "print(a)"
      ],
      "metadata": {
        "colab": {
          "base_uri": "https://localhost:8080/"
        },
        "id": "OaqUvorEyQdQ",
        "outputId": "3b2c36a5-b46c-4116-fdbc-c09a4cee3a3e"
      },
      "execution_count": null,
      "outputs": [
        {
          "output_type": "stream",
          "name": "stdout",
          "text": [
            "[array([[[9., 9., 2., 7.],\n",
            "        [4., 7., 4., 6.]],\n",
            "\n",
            "       [[7., 9., 8., 5.],\n",
            "        [4., 3., 4., 0.]],\n",
            "\n",
            "       [[4., 6., 2., 7.],\n",
            "        [0., 1., 6., 7.]]]), array([[[4., 3., 8., 0.],\n",
            "        [7., 9., 3., 9.]]]), array([], shape=(0, 2, 4), dtype=float64)]\n"
          ]
        }
      ]
    },
    {
      "cell_type": "markdown",
      "source": [],
      "metadata": {
        "id": "Y5JXfDBAzEJ5"
      }
    },
    {
      "cell_type": "code",
      "source": [
        "#create an array with 4rows and 8 columns\n",
        "b=np.arange(0,32,1).reshape(4,8)\n",
        "print(b)"
      ],
      "metadata": {
        "colab": {
          "base_uri": "https://localhost:8080/"
        },
        "id": "LLNSXNgWzhek",
        "outputId": "7b2b7260-45c9-41aa-bf52-669c25fd0c06"
      },
      "execution_count": null,
      "outputs": [
        {
          "output_type": "stream",
          "name": "stdout",
          "text": [
            "[[ 0  1  2  3  4  5  6  7]\n",
            " [ 8  9 10 11 12 13 14 15]\n",
            " [16 17 18 19 20 21 22 23]\n",
            " [24 25 26 27 28 29 30 31]]\n"
          ]
        }
      ]
    },
    {
      "cell_type": "code",
      "source": [
        "np.hsplit(b,4)"
      ],
      "metadata": {
        "colab": {
          "base_uri": "https://localhost:8080/"
        },
        "id": "6IImtXVR0Fam",
        "outputId": "ead9e0ec-f12d-4ac1-8e65-dc14fc4a6a88"
      },
      "execution_count": null,
      "outputs": [
        {
          "output_type": "execute_result",
          "data": {
            "text/plain": [
              "[array([[ 0,  1],\n",
              "        [ 8,  9],\n",
              "        [16, 17],\n",
              "        [24, 25]]),\n",
              " array([[ 2,  3],\n",
              "        [10, 11],\n",
              "        [18, 19],\n",
              "        [26, 27]]),\n",
              " array([[ 4,  5],\n",
              "        [12, 13],\n",
              "        [20, 21],\n",
              "        [28, 29]]),\n",
              " array([[ 6,  7],\n",
              "        [14, 15],\n",
              "        [22, 23],\n",
              "        [30, 31]])]"
            ]
          },
          "metadata": {},
          "execution_count": 29
        }
      ]
    },
    {
      "cell_type": "code",
      "source": [
        "np.hsplit(b,(3,7))"
      ],
      "metadata": {
        "colab": {
          "base_uri": "https://localhost:8080/"
        },
        "id": "XTt6XLMd0oTz",
        "outputId": "2c428511-2c6f-40bc-8bb1-6113a534e1fd"
      },
      "execution_count": null,
      "outputs": [
        {
          "output_type": "execute_result",
          "data": {
            "text/plain": [
              "[array([[ 0,  1,  2],\n",
              "        [ 8,  9, 10],\n",
              "        [16, 17, 18],\n",
              "        [24, 25, 26]]),\n",
              " array([[ 3,  4,  5,  6],\n",
              "        [11, 12, 13, 14],\n",
              "        [19, 20, 21, 22],\n",
              "        [27, 28, 29, 30]]),\n",
              " array([[ 7],\n",
              "        [15],\n",
              "        [23],\n",
              "        [31]])]"
            ]
          },
          "metadata": {},
          "execution_count": 30
        }
      ]
    },
    {
      "cell_type": "markdown",
      "source": [
        "trigonometry"
      ],
      "metadata": {
        "id": "5Js5sjmF3e6e"
      }
    },
    {
      "cell_type": "code",
      "source": [
        "a=[np.pi/4,np.pi/3,np.pi/2,np.pi]\n",
        "print(a)"
      ],
      "metadata": {
        "colab": {
          "base_uri": "https://localhost:8080/"
        },
        "id": "Aj_9WWTu32sq",
        "outputId": "e7233790-4024-4433-ce7c-a018009c3ebc"
      },
      "execution_count": null,
      "outputs": [
        {
          "output_type": "stream",
          "name": "stdout",
          "text": [
            "[0.7853981633974483, 1.0471975511965976, 1.5707963267948966, 3.141592653589793]\n"
          ]
        }
      ]
    },
    {
      "cell_type": "code",
      "source": [
        "np.rad2deg(a)"
      ],
      "metadata": {
        "colab": {
          "base_uri": "https://localhost:8080/"
        },
        "id": "nWN05zjs4WHv",
        "outputId": "f8b19ba1-838a-40e8-dbee-ffef1fea31c9"
      },
      "execution_count": null,
      "outputs": [
        {
          "output_type": "execute_result",
          "data": {
            "text/plain": [
              "array([ 45.,  60.,  90., 180.])"
            ]
          },
          "metadata": {},
          "execution_count": 32
        }
      ]
    },
    {
      "cell_type": "code",
      "source": [
        "np.deg2rad(a)"
      ],
      "metadata": {
        "colab": {
          "base_uri": "https://localhost:8080/"
        },
        "id": "9F-Fanab5egG",
        "outputId": "f84fd68b-e172-404a-ae9e-afd74a010f5a"
      },
      "execution_count": null,
      "outputs": [
        {
          "output_type": "execute_result",
          "data": {
            "text/plain": [
              "array([0.01370778, 0.01827705, 0.02741557, 0.05483114])"
            ]
          },
          "metadata": {},
          "execution_count": 33
        }
      ]
    },
    {
      "cell_type": "code",
      "source": [
        "np.sin(0.785)"
      ],
      "metadata": {
        "colab": {
          "base_uri": "https://localhost:8080/"
        },
        "id": "3Migc5zA5rS6",
        "outputId": "b6ab1c95-294d-4c8f-a63d-d55b45b47930"
      },
      "execution_count": null,
      "outputs": [
        {
          "output_type": "execute_result",
          "data": {
            "text/plain": [
              "0.706825181105366"
            ]
          },
          "metadata": {},
          "execution_count": 34
        }
      ]
    },
    {
      "cell_type": "code",
      "source": [
        "np.sin(1)"
      ],
      "metadata": {
        "colab": {
          "base_uri": "https://localhost:8080/"
        },
        "id": "bpqyTlUK52WH",
        "outputId": "2cd64e4a-f547-439b-9ca2-44dd6174d135"
      },
      "execution_count": null,
      "outputs": [
        {
          "output_type": "execute_result",
          "data": {
            "text/plain": [
              "0.8414709848078965"
            ]
          },
          "metadata": {},
          "execution_count": 35
        }
      ]
    },
    {
      "cell_type": "code",
      "source": [
        "np.cos(1)"
      ],
      "metadata": {
        "colab": {
          "base_uri": "https://localhost:8080/"
        },
        "id": "zif_R8ba56H7",
        "outputId": "c68698b7-2b99-4e48-f815-88a7a8ed47bb"
      },
      "execution_count": null,
      "outputs": [
        {
          "output_type": "execute_result",
          "data": {
            "text/plain": [
              "0.5403023058681398"
            ]
          },
          "metadata": {},
          "execution_count": 36
        }
      ]
    },
    {
      "cell_type": "markdown",
      "source": [
        "statistics"
      ],
      "metadata": {
        "id": "lQlRUjAM7XdN"
      }
    },
    {
      "cell_type": "code",
      "source": [
        "st=np.array([23,45,67,89,21,34])\n",
        "np.mean(st)"
      ],
      "metadata": {
        "colab": {
          "base_uri": "https://localhost:8080/"
        },
        "id": "Z1Em1mVL5-cH",
        "outputId": "25b36836-77b8-4ef4-b2b4-d4b5d4fb0a1f"
      },
      "execution_count": null,
      "outputs": [
        {
          "output_type": "execute_result",
          "data": {
            "text/plain": [
              "46.5"
            ]
          },
          "metadata": {},
          "execution_count": 43
        }
      ]
    },
    {
      "cell_type": "code",
      "source": [
        "np.median(st)"
      ],
      "metadata": {
        "colab": {
          "base_uri": "https://localhost:8080/"
        },
        "id": "iEIz-HTm7Ot9",
        "outputId": "fe5ad656-5a62-4ec1-c376-2814226f15cb"
      },
      "execution_count": null,
      "outputs": [
        {
          "output_type": "execute_result",
          "data": {
            "text/plain": [
              "39.5"
            ]
          },
          "metadata": {},
          "execution_count": 44
        }
      ]
    },
    {
      "cell_type": "code",
      "source": [
        "np.std(st)"
      ],
      "metadata": {
        "colab": {
          "base_uri": "https://localhost:8080/"
        },
        "id": "rDdQjSqb8vP5",
        "outputId": "a50149a3-9a49-4330-ee46-9628c8ce990f"
      },
      "execution_count": null,
      "outputs": [
        {
          "output_type": "execute_result",
          "data": {
            "text/plain": [
              "24.452334585202017"
            ]
          },
          "metadata": {},
          "execution_count": 46
        }
      ]
    },
    {
      "cell_type": "code",
      "source": [
        "np.var(st)"
      ],
      "metadata": {
        "colab": {
          "base_uri": "https://localhost:8080/"
        },
        "id": "lXg1S1JQ8ZJ3",
        "outputId": "3dad2390-1cac-4324-de60-3968ba707887"
      },
      "execution_count": null,
      "outputs": [
        {
          "output_type": "execute_result",
          "data": {
            "text/plain": [
              "597.9166666666666"
            ]
          },
          "metadata": {},
          "execution_count": 45
        }
      ]
    },
    {
      "cell_type": "code",
      "source": [
        "b=np.var(st)\n",
        "print(np.sqrt(b))"
      ],
      "metadata": {
        "colab": {
          "base_uri": "https://localhost:8080/"
        },
        "id": "ll2o5zpH82Ld",
        "outputId": "68fa9ace-fcf4-46c1-839e-3bf6497bbb4a"
      },
      "execution_count": null,
      "outputs": [
        {
          "output_type": "stream",
          "name": "stdout",
          "text": [
            "24.452334585202017\n"
          ]
        }
      ]
    },
    {
      "cell_type": "markdown",
      "source": [
        "linear algebra"
      ],
      "metadata": {
        "id": "pLQCxyLd_Kpu"
      }
    },
    {
      "cell_type": "code",
      "source": [
        "c=np.arange(1,5).reshape(2,2)\n",
        "print(c)"
      ],
      "metadata": {
        "colab": {
          "base_uri": "https://localhost:8080/"
        },
        "id": "9_JskUaU_Sqo",
        "outputId": "247699fc-2278-41c3-84fa-2e0d341b2fd0"
      },
      "execution_count": null,
      "outputs": [
        {
          "output_type": "stream",
          "name": "stdout",
          "text": [
            "[[1 2]\n",
            " [3 4]]\n"
          ]
        }
      ]
    },
    {
      "cell_type": "code",
      "source": [
        "np.linalg.inv(c)"
      ],
      "metadata": {
        "colab": {
          "base_uri": "https://localhost:8080/"
        },
        "id": "Zuc4BNMt_lOO",
        "outputId": "8c2b2444-7c47-4da9-b9d7-7252586a3041"
      },
      "execution_count": null,
      "outputs": [
        {
          "output_type": "execute_result",
          "data": {
            "text/plain": [
              "array([[-2. ,  1. ],\n",
              "       [ 1.5, -0.5]])"
            ]
          },
          "metadata": {},
          "execution_count": 51
        }
      ]
    },
    {
      "cell_type": "code",
      "source": [
        "c=np.arange(1,25).reshape(6,4)\n",
        "print(c)"
      ],
      "metadata": {
        "colab": {
          "base_uri": "https://localhost:8080/"
        },
        "id": "yZXk3z_H_51T",
        "outputId": "e691ce81-de9f-4eea-b2f8-9e3b45dc656b"
      },
      "execution_count": null,
      "outputs": [
        {
          "output_type": "stream",
          "name": "stdout",
          "text": [
            "[[ 1  2  3  4]\n",
            " [ 5  6  7  8]\n",
            " [ 9 10 11 12]\n",
            " [13 14 15 16]\n",
            " [17 18 19 20]\n",
            " [21 22 23 24]]\n"
          ]
        }
      ]
    },
    {
      "cell_type": "code",
      "source": [
        "print(np.argmax(c))\n",
        "print(np.argmin(c))"
      ],
      "metadata": {
        "colab": {
          "base_uri": "https://localhost:8080/"
        },
        "id": "7icfFZSaAKOH",
        "outputId": "b903cff0-a77d-42f2-f7bd-f97a476ea00e"
      },
      "execution_count": null,
      "outputs": [
        {
          "output_type": "stream",
          "name": "stdout",
          "text": [
            "23\n",
            "0\n"
          ]
        }
      ]
    },
    {
      "cell_type": "code",
      "source": [
        "c=10*np.random.rand(24).reshape(6,4)\n",
        "print(c)"
      ],
      "metadata": {
        "colab": {
          "base_uri": "https://localhost:8080/"
        },
        "id": "cyfgBWcsBRs3",
        "outputId": "0ad54086-a289-4609-d5ee-9da8616ed8c9"
      },
      "execution_count": null,
      "outputs": [
        {
          "output_type": "stream",
          "name": "stdout",
          "text": [
            "[[0.87695249 1.60483576 2.76138031 2.89547127]\n",
            " [8.72855183 9.15561061 6.15047861 0.52473847]\n",
            " [7.67325327 7.92954055 5.1057559  0.36646239]\n",
            " [6.75266135 1.86165819 8.2629937  0.03770929]\n",
            " [2.90616011 7.67752264 1.84985316 6.45389359]\n",
            " [7.9664638  9.0926368  9.2683785  2.39962953]]\n"
          ]
        }
      ]
    },
    {
      "cell_type": "code",
      "source": [
        "print(np.argmax(c))"
      ],
      "metadata": {
        "colab": {
          "base_uri": "https://localhost:8080/"
        },
        "id": "-Nje8DpzBfUq",
        "outputId": "ca779b1a-cd9a-411c-9deb-4dafc5526a91"
      },
      "execution_count": null,
      "outputs": [
        {
          "output_type": "stream",
          "name": "stdout",
          "text": [
            "22\n"
          ]
        }
      ]
    },
    {
      "cell_type": "code",
      "source": [
        "print(np.argmax(c,axis=1))"
      ],
      "metadata": {
        "colab": {
          "base_uri": "https://localhost:8080/"
        },
        "id": "woVgiKTjBtcr",
        "outputId": "2959abbf-b50d-4dc8-e33c-1fbd5a01d4d6"
      },
      "execution_count": null,
      "outputs": [
        {
          "output_type": "stream",
          "name": "stdout",
          "text": [
            "[3 1 1 2 1 2]\n"
          ]
        }
      ]
    },
    {
      "cell_type": "code",
      "source": [
        "print(np.argmin(c,axis=0))\n"
      ],
      "metadata": {
        "colab": {
          "base_uri": "https://localhost:8080/"
        },
        "id": "ou7z-c53Cl49",
        "outputId": "62c1599a-e5c4-44f2-a022-a35b26a2541a"
      },
      "execution_count": null,
      "outputs": [
        {
          "output_type": "stream",
          "name": "stdout",
          "text": [
            "[0 0 4 3]\n"
          ]
        }
      ]
    },
    {
      "cell_type": "code",
      "source": [
        "a=np.array([34,56,7,88,91])\n",
        "print(a)\n",
        "print(np.where(a%2==0))"
      ],
      "metadata": {
        "colab": {
          "base_uri": "https://localhost:8080/"
        },
        "id": "L3AM58cOE1y8",
        "outputId": "d565a581-87dc-4f1e-b4be-858292b9587a"
      },
      "execution_count": null,
      "outputs": [
        {
          "output_type": "stream",
          "name": "stdout",
          "text": [
            "[34 56  7 88 91]\n",
            "(array([0, 1, 3]),)\n"
          ]
        }
      ]
    },
    {
      "cell_type": "code",
      "source": [
        "a=np.array([24,16,7,17,54,60])\n",
        "print(np.where(a%6==0))"
      ],
      "metadata": {
        "colab": {
          "base_uri": "https://localhost:8080/"
        },
        "id": "DM7PH8mDGnd0",
        "outputId": "e98fcca9-4d33-47a6-a6a0-3cb8f79b4d48"
      },
      "execution_count": null,
      "outputs": [
        {
          "output_type": "stream",
          "name": "stdout",
          "text": [
            "(array([0, 4, 5]),)\n"
          ]
        }
      ]
    },
    {
      "cell_type": "code",
      "source": [
        "x=np.array([6,7,8,9,10])\n",
        "print(np.searchsorted(x,10))"
      ],
      "metadata": {
        "colab": {
          "base_uri": "https://localhost:8080/"
        },
        "id": "IYoTlGZkG_C3",
        "outputId": "4895b7d5-737a-4cc7-dab8-0ebce18c7c1b"
      },
      "execution_count": null,
      "outputs": [
        {
          "output_type": "stream",
          "name": "stdout",
          "text": [
            "4\n"
          ]
        }
      ]
    },
    {
      "cell_type": "code",
      "source": [
        "a=np.array([\"cse\",\"navaneeth\",\"hlo\"])\n",
        "print(np.searchsorted(a,\"hlo\"))\n",
        "print(np.sort(a))"
      ],
      "metadata": {
        "colab": {
          "base_uri": "https://localhost:8080/"
        },
        "id": "Zz7DduiUIToP",
        "outputId": "f161e630-337d-49f2-8092-d03a9234c05a"
      },
      "execution_count": null,
      "outputs": [
        {
          "output_type": "stream",
          "name": "stdout",
          "text": [
            "1\n",
            "['cse' 'hlo' 'navaneeth']\n"
          ]
        }
      ]
    },
    {
      "cell_type": "code",
      "source": [
        "arr=np.array([[3,2,4],[5,0,1]])\n",
        "print(np.sort(arr))"
      ],
      "metadata": {
        "colab": {
          "base_uri": "https://localhost:8080/"
        },
        "id": "LJQ6uMhlJb52",
        "outputId": "79b8828d-bef8-4229-ca73-e90df121e72e"
      },
      "execution_count": null,
      "outputs": [
        {
          "output_type": "stream",
          "name": "stdout",
          "text": [
            "[[2 3 4]\n",
            " [0 1 5]]\n"
          ]
        }
      ]
    },
    {
      "cell_type": "code",
      "source": [
        "arr=np.array([40,42,50,44,67,8])\n",
        "filt=np.where(arr%2==0)\n",
        "print(filt)\n",
        "arr[filt]"
      ],
      "metadata": {
        "colab": {
          "base_uri": "https://localhost:8080/"
        },
        "id": "RZodk3kbKG2J",
        "outputId": "40a897be-7579-42b0-8dca-4ddd69f92285"
      },
      "execution_count": null,
      "outputs": [
        {
          "output_type": "stream",
          "name": "stdout",
          "text": [
            "(array([0, 1, 2, 3, 5]),)\n"
          ]
        },
        {
          "output_type": "execute_result",
          "data": {
            "text/plain": [
              "array([40, 42, 50, 44,  8])"
            ]
          },
          "metadata": {},
          "execution_count": 83
        }
      ]
    },
    {
      "cell_type": "code",
      "source": [
        "name=np.array([\"hi\",\"hello\",\"cse\",\"b\"])\n",
        "initials=np.array([\"k\",\"l\",\"h\",\"c\"])\n",
        "for i,j in zip (initials,name):\n",
        " print(i,\"_\",j)"
      ],
      "metadata": {
        "colab": {
          "base_uri": "https://localhost:8080/"
        },
        "id": "hl8ax8UVPMgw",
        "outputId": "e6342407-d9f3-4a2a-9c5c-19497fc47cb6"
      },
      "execution_count": null,
      "outputs": [
        {
          "output_type": "stream",
          "name": "stdout",
          "text": [
            "k _ hi\n",
            "l _ hello\n",
            "h _ cse\n",
            "c _ b\n"
          ]
        }
      ]
    },
    {
      "cell_type": "code",
      "source": [
        "a1=np.array([10,20,30,40,50,60])\n",
        "a2=np.array([20,21,22,23,24,25])\n",
        "n=np.multiply(a1,a2)\n",
        "print(n)"
      ],
      "metadata": {
        "colab": {
          "base_uri": "https://localhost:8080/"
        },
        "id": "p2PntuEaRNyv",
        "outputId": "f9d3ec29-557d-4529-f03b-8be235559a94"
      },
      "execution_count": null,
      "outputs": [
        {
          "output_type": "stream",
          "name": "stdout",
          "text": [
            "[ 200  420  660  920 1200 1500]\n"
          ]
        }
      ]
    },
    {
      "cell_type": "code",
      "source": [
        "a3=np.array([5,4,3,2,1])\n",
        "a4=np.array([1,2,3,4,5])\n",
        "n=np.divide(a3,a4)\n",
        "m=np.mod(a3,a4)\n",
        "y=np.divmod(a3,a4)\n",
        "print(n)\n",
        "print(m)\n",
        "print(y)"
      ],
      "metadata": {
        "colab": {
          "base_uri": "https://localhost:8080/"
        },
        "id": "YUejSFVORops",
        "outputId": "39f7dadf-200b-4a08-fab0-199e44d3e4c3"
      },
      "execution_count": null,
      "outputs": [
        {
          "output_type": "stream",
          "name": "stdout",
          "text": [
            "[5.  2.  1.  0.5 0.2]\n",
            "[0 0 0 2 1]\n",
            "(array([5, 2, 1, 0, 0]), array([0, 0, 0, 2, 1]))\n"
          ]
        }
      ]
    },
    {
      "cell_type": "markdown",
      "source": [
        "logarthims"
      ],
      "metadata": {
        "id": "bWX3Pxf5TGGi"
      }
    },
    {
      "cell_type": "code",
      "source": [
        "a=1.2\n",
        "print(np.log(a))\n",
        "print(np.log2(a))\n",
        "print(np.log10(a))\n"
      ],
      "metadata": {
        "colab": {
          "base_uri": "https://localhost:8080/"
        },
        "id": "rG2WmRkmSv-w",
        "outputId": "f90dfce3-e8b4-43cf-e2ad-88677891771f"
      },
      "execution_count": null,
      "outputs": [
        {
          "output_type": "stream",
          "name": "stdout",
          "text": [
            "0.1823215567939546\n",
            "0.2630344058337938\n",
            "0.07918124604762482\n"
          ]
        }
      ]
    },
    {
      "cell_type": "code",
      "source": [
        "a=np.array([1,2,1.2])\n",
        "print(np.log(a))\n",
        "print(np.log2(a))\n",
        "print(np.log10(a))\n"
      ],
      "metadata": {
        "colab": {
          "base_uri": "https://localhost:8080/"
        },
        "id": "fNF3JrWGTPnB",
        "outputId": "c1b1f41b-a1ba-4445-8fe7-99b5b892a949"
      },
      "execution_count": null,
      "outputs": [
        {
          "output_type": "stream",
          "name": "stdout",
          "text": [
            "[0.         0.69314718 0.18232156]\n",
            "[0.         1.         0.26303441]\n",
            "[0.         0.30103    0.07918125]\n"
          ]
        }
      ]
    },
    {
      "cell_type": "code",
      "source": [
        "a5=np.array([5,6,7,8])\n",
        "x=np.cumprod(a5)\n",
        "print(x)"
      ],
      "metadata": {
        "colab": {
          "base_uri": "https://localhost:8080/"
        },
        "id": "Ny_HO4DfU1DE",
        "outputId": "81468dd7-66f6-4735-ce7a-005e03b171da"
      },
      "execution_count": null,
      "outputs": [
        {
          "output_type": "stream",
          "name": "stdout",
          "text": [
            "[   5   30  210 1680]\n"
          ]
        }
      ]
    },
    {
      "cell_type": "code",
      "source": [
        "a6=np.array([10,22,34,44])\n",
        "newarr=np.diff(a6)\n",
        "print(newarr)"
      ],
      "metadata": {
        "colab": {
          "base_uri": "https://localhost:8080/"
        },
        "id": "SxLF6KAkVIWE",
        "outputId": "1be8490f-9f23-46d5-aabe-15a0f5b801f1"
      },
      "execution_count": null,
      "outputs": [
        {
          "output_type": "stream",
          "name": "stdout",
          "text": [
            "[12 12 10]\n"
          ]
        }
      ]
    },
    {
      "cell_type": "code",
      "source": [
        "num1=244,\n",
        "num2=442\n",
        "x=np.lcm(num1,num2)\n",
        "z=np.gcd(num1,num2)\n",
        "print(x)\n",
        "print(z)"
      ],
      "metadata": {
        "colab": {
          "base_uri": "https://localhost:8080/"
        },
        "id": "EDjcId7PVhVy",
        "outputId": "44d9ddf1-e382-4808-f8a2-c66b24ca92b1"
      },
      "execution_count": null,
      "outputs": [
        {
          "output_type": "stream",
          "name": "stdout",
          "text": [
            "53924\n",
            "2\n"
          ]
        }
      ]
    },
    {
      "cell_type": "code",
      "source": [
        "a=np.array([12,14,16])\n",
        "gc=np.gcd.reduce(a)\n",
        "print(gc)"
      ],
      "metadata": {
        "colab": {
          "base_uri": "https://localhost:8080/"
        },
        "id": "aCqsqH5FW1aJ",
        "outputId": "0c790568-de18-452d-e886-c445675e7c33"
      },
      "execution_count": null,
      "outputs": [
        {
          "output_type": "stream",
          "name": "stdout",
          "text": [
            "2\n"
          ]
        }
      ]
    },
    {
      "cell_type": "code",
      "source": [
        "a=np.array([12,14,16])\n",
        "lc=np.lcm.reduce(a)\n",
        "print(lc)"
      ],
      "metadata": {
        "colab": {
          "base_uri": "https://localhost:8080/"
        },
        "id": "yJqFjYi-Xh__",
        "outputId": "ef2acad8-3c48-49c2-9f0e-8ddacda1f456"
      },
      "execution_count": null,
      "outputs": [
        {
          "output_type": "stream",
          "name": "stdout",
          "text": [
            "336\n"
          ]
        }
      ]
    },
    {
      "cell_type": "markdown",
      "source": [
        "**PLOTING**"
      ],
      "metadata": {
        "id": "udRYra4oorTY"
      }
    },
    {
      "cell_type": "code",
      "source": [
        "import matplotlib.pyplot as plt"
      ],
      "metadata": {
        "id": "KvYSOz81o00t"
      },
      "execution_count": null,
      "outputs": []
    },
    {
      "cell_type": "code",
      "source": [
        "a=[23,45,60,89,10]\n",
        "b=[1,2,3,4,5]\n",
        "plt.plot(b,a)\n",
        "plt.show()"
      ],
      "metadata": {
        "colab": {
          "base_uri": "https://localhost:8080/",
          "height": 430
        },
        "id": "d_7GFCrdnirn",
        "outputId": "51f1624c-7c1e-4589-a440-6bd4143e486a"
      },
      "execution_count": null,
      "outputs": [
        {
          "output_type": "display_data",
          "data": {
            "text/plain": [
              "<Figure size 640x480 with 1 Axes>"
            ],
            "image/png": "[encoded data removed]"
          },
          "metadata": {}
        }
      ]
    },
    {
      "cell_type": "code",
      "source": [
        "import numpy as np\n",
        "r=np.array([100,50,91,78,89,25,34,19,9,10])\n",
        "w=np.array([1,0,2,0,3,7,8,9,7,5])\n",
        "plt.scatter(r,w,color =\"black\")\n",
        "plt.show()\n",
        "\n"
      ],
      "metadata": {
        "colab": {
          "base_uri": "https://localhost:8080/",
          "height": 430
        },
        "id": "0OL3F-vVpWQ5",
        "outputId": "ec548fa1-77e9-4a47-c971-656734ac9fb4"
      },
      "execution_count": null,
      "outputs": [
        {
          "output_type": "display_data",
          "data": {
            "text/plain": [
              "<Figure size 640x480 with 1 Axes>"
            ],
            "image/png": "[encoded data removed]"
          },
          "metadata": {}
        }
      ]
    },
    {
      "cell_type": "markdown",
      "source": [
        "markers:\n",
        "s-square\n",
        "D-daimond\n",
        "c-circles\n",
        ".-point\n",
        "H-hexagon\n",
        "v-triangle down\n",
        "colour:\n",
        "r-red\n",
        "g-green\n",
        "b-blue\n",
        "k-black\n",
        "w-white\n",
        "y-yellow\n",
        "m-megianda\n",
        "c-cyane\n",
        "\n"
      ],
      "metadata": {
        "id": "w9Meiifct42i"
      }
    },
    {
      "cell_type": "code",
      "source": [
        "from os import posix_fallocate\n",
        "#show the comparision of the two students in five different subjects\n",
        "#sub as x axis,marks as y axis\n",
        "stud1=[56,78,82,94,62]\n",
        "stud2=[65,79,93,89,99]\n",
        "sub=[\"maths\",\"english\",\"social\",\"hindi\",\"biology\"]\n",
        "plt.plot(sub,stud1,label=\"student1\",color=\"y\")\n",
        "plt.plot(sub,stud2,label=\"student2\",color=\"g\")\n",
        "plt.title(\"marks of student\",color=\"pink\")\n",
        "plt.legend()\n"
      ],
      "metadata": {
        "colab": {
          "base_uri": "https://localhost:8080/",
          "height": 469
        },
        "id": "o_NnqDKHsF1-",
        "outputId": "a2376d6e-8187-49a2-8b3b-b2c72e05e87e"
      },
      "execution_count": null,
      "outputs": [
        {
          "output_type": "execute_result",
          "data": {
            "text/plain": [
              "<matplotlib.legend.Legend at 0x7c86a0db7f10>"
            ]
          },
          "metadata": {},
          "execution_count": 11
        },
        {
          "output_type": "display_data",
          "data": {
            "text/plain": [
              "<Figure size 640x480 with 1 Axes>"
            ],
            "image/png": "[encoded data removed]"
          },
          "metadata": {}
        }
      ]
    },
    {
      "cell_type": "code",
      "source": [
        "stud1=[56,78,82,94,62]\n",
        "stud2=[65,79,93,89,99]\n",
        "sub=[\"maths\",\"english\",\"social\",\"hindi\",\"biology\"]\n",
        "plt.title(\"marks of student\",color=\"pink\")\n",
        "plt.subplot(1,2,1)\n",
        "plt.plot(sub,stud1,label=\"student1\",color=\"y\")\n",
        "plt.legend()\n",
        "plt.subplot(1,2,2)\n",
        "plt.plot(sub,stud2,label=\"student2\",color=\"g\")\n",
        "plt.legend()"
      ],
      "metadata": {
        "colab": {
          "base_uri": "https://localhost:8080/",
          "height": 502
        },
        "id": "URQfhZluyy-B",
        "outputId": "5d3f5017-c7d8-4502-f1e7-822e6975a81c"
      },
      "execution_count": null,
      "outputs": [
        {
          "output_type": "stream",
          "name": "stderr",
          "text": [
            "<ipython-input-17-090d9c3fde42>:5: MatplotlibDeprecationWarning: Auto-removal of overlapping axes is deprecated since 3.6 and will be removed two minor releases later; explicitly call ax.remove() as needed.\n",
            "  plt.subplot(1,2,1)\n"
          ]
        },
        {
          "output_type": "execute_result",
          "data": {
            "text/plain": [
              "<matplotlib.legend.Legend at 0x7c869e224130>"
            ]
          },
          "metadata": {},
          "execution_count": 17
        },
        {
          "output_type": "display_data",
          "data": {
            "text/plain": [
              "<Figure size 640x480 with 2 Axes>"
            ],
            "image/png": "[encoded data removed]"
          },
          "metadata": {}
        }
      ]
    },
    {
      "cell_type": "code",
      "source": [
        "years=np.array([\"2019-20\",\"2020-21\",\"2021-22\",\"2022-23\"])\n",
        "a=np.array([230,560,780,127,128])\n",
        "print(a)\n",
        "b=np.array([200,160,270,127,400])\n",
        "print(b)\n",
        "c=np.diff(a)\n",
        "b=np.diff(b)\n",
        "plt.title(\"profits of company\")\n",
        "plt.subplot(2,1,1)\n",
        "plt.bar(years,c,label=\"companyA\",color=\"g\")\n",
        "plt.legend()\n",
        "plt.subplot(2,1,2)\n",
        "plt.bar(years,b,label=\"companyB\",color=\"k\")\n",
        "plt.legend()\n"
      ],
      "metadata": {
        "colab": {
          "base_uri": "https://localhost:8080/",
          "height": 537
        },
        "id": "orZ9V3xKz6YS",
        "outputId": "82725c61-b69f-4a20-88db-d87d331fc2aa"
      },
      "execution_count": null,
      "outputs": [
        {
          "output_type": "stream",
          "name": "stdout",
          "text": [
            "[230 560 780 127 128]\n",
            "[200 160 270 127 400]\n"
          ]
        },
        {
          "output_type": "stream",
          "name": "stderr",
          "text": [
            "<ipython-input-22-4fc924116461>:9: MatplotlibDeprecationWarning: Auto-removal of overlapping axes is deprecated since 3.6 and will be removed two minor releases later; explicitly call ax.remove() as needed.\n",
            "  plt.subplot(2,1,1)\n"
          ]
        },
        {
          "output_type": "execute_result",
          "data": {
            "text/plain": [
              "<matplotlib.legend.Legend at 0x7c869db81150>"
            ]
          },
          "metadata": {},
          "execution_count": 22
        },
        {
          "output_type": "display_data",
          "data": {
            "text/plain": [
              "<Figure size 640x480 with 2 Axes>"
            ],
            "image/png": "[encoded data removed]"
          },
          "metadata": {}
        }
      ]
    },
    {
      "cell_type": "code",
      "source": [
        " a=np.array([25,60,5,10])\n",
        " labe=[\"AIML\",\"PYTHON\",\"NUMPY\",\"PANDAS\"]\n",
        " explo=[0.2,0,0,0]\n",
        " plt.pie(a,labels=labe,explode=explo,startangle=180)\n",
        " plt.show()"
      ],
      "metadata": {
        "colab": {
          "base_uri": "https://localhost:8080/",
          "height": 406
        },
        "id": "M1AYZ-2a90Hv",
        "outputId": "b1be7385-10b5-44aa-e48e-bf72be1726ab"
      },
      "execution_count": null,
      "outputs": [
        {
          "output_type": "display_data",
          "data": {
            "text/plain": [
              "<Figure size 640x480 with 1 Axes>"
            ],
            "image/png": "[encoded data removed]"
          },
          "metadata": {}
        }
      ]
    },
    {
      "cell_type": "code",
      "source": [
        " a=np.array([25,60,5,10])\n",
        " labe=[\"AIML\",\"PYTHON\",\"NUMPY\",\"PANDAS\"]\n",
        " plt.pie(a,labels=labe)\n",
        " plt.show()"
      ],
      "metadata": {
        "colab": {
          "base_uri": "https://localhost:8080/",
          "height": 406
        },
        "id": "Q_8uMu7QE1zM",
        "outputId": "97910669-1081-4d39-8250-5847986f32b0"
      },
      "execution_count": null,
      "outputs": [
        {
          "output_type": "display_data",
          "data": {
            "text/plain": [
              "<Figure size 640x480 with 1 Axes>"
            ],
            "image/png": "[encoded data removed]"
          },
          "metadata": {}
        }
      ]
    },
    {
      "cell_type": "code",
      "source": [
        " a=np.array([25,60,5,10])\n",
        " labe=[\"AIML\",\"PYTHON\",\"NUMPY\",\"PANDAS\"]\n",
        " explo=[0.3,0,0,0]\n",
        " plt.pie(a,labels=labe,explode=explo,shadow=True)\n",
        " plt.legend()\n",
        " plt.show()"
      ],
      "metadata": {
        "colab": {
          "base_uri": "https://localhost:8080/",
          "height": 406
        },
        "id": "u1LWPkZfFUmR",
        "outputId": "088e7152-fda0-4329-fbcb-f9c8d4df31c4"
      },
      "execution_count": null,
      "outputs": [
        {
          "output_type": "display_data",
          "data": {
            "text/plain": [
              "<Figure size 640x480 with 1 Axes>"
            ],
            "image/png": "[encoded data removed]"
          },
          "metadata": {}
        }
      ]
    },
    {
      "cell_type": "code",
      "source": [],
      "metadata": {
        "id": "3vhOVJEXFtCu"
      },
      "execution_count": null,
      "outputs": []
    }
  ],
  "metadata": {
    "colab": {
      "provenance": [],
      "authorship_tag": "ABX9TyMWfnDhRcgyZ84rBagTuKmy",
      "include_colab_link": true
    },
    "kernelspec": {
      "display_name": "Python 3",
      "name": "python3"
    },
    "language_info": {
      "name": "python"
    }
  },
  "nbformat": 4,
  "nbformat_minor": 0
}